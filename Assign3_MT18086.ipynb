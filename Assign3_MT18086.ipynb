{
 "cells": [
  {
   "cell_type": "markdown",
   "metadata": {},
   "source": [
    "### Question 1)"
   ]
  },
  {
   "cell_type": "markdown",
   "metadata": {},
   "source": [
    "#### A) In the figure, goog200 is going upwards as per the day(unit time) is increasing so this will result variability in mean across the time series (not constant mean) thats why data is NOT stationary."
   ]
  },
  {
   "cell_type": "markdown",
   "metadata": {},
   "source": [
    "#### c) The time series which is given have variablity in mean during two time intervals 1950-1965 and  1970-1980 therefore the data is not stationary."
   ]
  },
  {
   "cell_type": "markdown",
   "metadata": {},
   "source": [
    "#### d) The time series which is given have variablity in different time duration 1975-80 and 1985-90 in there mean  therefore the data is not stationary."
   ]
  },
  {
   "cell_type": "markdown",
   "metadata": {},
   "source": [
    "#### e) Because the timeseries is getting decreased over time, so the mean is not constant because of variability in mean over the time make data non stationary. "
   ]
  },
  {
   "cell_type": "markdown",
   "metadata": {},
   "source": [
    "#### f) Because the timeseries in 1980-85 have approximatly same mean but in 1985-1995 data have variability  in there mean so data non stationary. "
   ]
  },
  {
   "cell_type": "markdown",
   "metadata": {},
   "source": [
    "#### h) Time series is in decreasing order thats why the mean is variable across the time period so the data is not stationary "
   ]
  },
  {
   "cell_type": "markdown",
   "metadata": {},
   "source": [
    "#### i)  Because the timeseries is getting increased over time, so the mean is not constant because of variability in mean over the time make data non stationary.\n",
    "#### Rest of them  b) and g) are stationary "
   ]
  },
  {
   "cell_type": "markdown",
   "metadata": {},
   "source": [
    "### Question 3)"
   ]
  },
  {
   "cell_type": "code",
   "execution_count": 97,
   "metadata": {},
   "outputs": [],
   "source": [
    "# Reference : http://www.science.smith.edu/~jcrouser/SDS293/labs/lab4-py.html\n",
    "# Required Packages to import \n",
    "import csv\n",
    "import os\n",
    "import copy\n",
    "import seaborn as sn\n",
    "import pandas as pd\n",
    "import numpy as np\n",
    "from pandas import read_csv\n",
    "from pandas import datetime\n",
    "from pandas import DataFrame\n",
    "import matplotlib as mpl\n",
    "import matplotlib.pyplot as plt\n",
    "import seaborn as sns\n",
    "import statsmodels.api as sm\n",
    "from dateutil.parser import parse \n",
    "from sklearn.metrics import confusion_matrix\n",
    "import statsmodels.formula.api as smf\n",
    "from sklearn.model_selection import train_test_split\n",
    "import warnings\n",
    "import sys\n",
    "if not sys.warnoptions:\n",
    "    warnings.simplefilter(\"ignore\")"
   ]
  },
  {
   "cell_type": "code",
   "execution_count": 55,
   "metadata": {},
   "outputs": [],
   "source": [
    "# Calculate the accuracy \n",
    "def accuracy(predict,real):\n",
    "    '''To calculate the accuracy \n",
    "    Parameters : \n",
    "    predict : predictions for test data \n",
    "    real : real label for test data\n",
    "    '''\n",
    "    count = 0\n",
    "    for i in range(len(predict)):\n",
    "        if predict[i] == real[i]:\n",
    "            count = count +1\n",
    "    return count/len(predict)"
   ]
  },
  {
   "cell_type": "code",
   "execution_count": 79,
   "metadata": {},
   "outputs": [],
   "source": [
    "def predict_result(prob):\n",
    "    '''To predict the label given probabilities\n",
    "    prob: Given array of probabilities  for test data points\n",
    "    '''\n",
    "    test = []\n",
    "    for i in prob:\n",
    "        if i >0.5:\n",
    "            test.append(\"benign\")\n",
    "        else:\n",
    "            test.append(\"malignant\")\n",
    "    return test"
   ]
  },
  {
   "cell_type": "code",
   "execution_count": 80,
   "metadata": {},
   "outputs": [],
   "source": [
    "def train_test(train_loc,test_loc):\n",
    "    '''To train test data \n",
    "    Parameters : \n",
    "    train_loc : train location \n",
    "    test_loc: test data location\n",
    "    '''\n",
    "    train = pd.read_csv(train_loc, header=0, parse_dates=[0], index_col=0, squeeze=True,date_parser = parser)\n",
    "    test = pd.read_csv(test_loc)\n",
    "    return train,test"
   ]
  },
  {
   "cell_type": "code",
   "execution_count": 82,
   "metadata": {},
   "outputs": [],
   "source": [
    "def read_file(file_loc):\n",
    "    '''Reading the file \n",
    "    Parameters : \n",
    "    file_loc : file location for given dataset \n",
    "    '''\n",
    "    # Reading the dataframe for csv file for dataset\n",
    "    df = pd.read_csv(file_loc)\n",
    "    # To make nan value for cell as 0.\n",
    "    df = df.fillna(0)\n",
    "    return df"
   ]
  },
  {
   "cell_type": "code",
   "execution_count": 90,
   "metadata": {},
   "outputs": [],
   "source": [
    "def processing_dataframe(df1):\n",
    "    '''Processing the data frame \n",
    "    Parameters : \n",
    "    df1: dataframe to preprocess\n",
    "    '''\n",
    "    df = copy.deepcopy(df1)\n",
    "    df = df.drop(columns = \"Id\")\n",
    "    df = df.drop(columns = \"S.No\")\n",
    "    classes = df['Class']\n",
    "    df.columns=['A','B','C','D','E','F','G','H','I','J']\n",
    "    # df = df.drop(columns = \"Class\")\n",
    "    dataset = np.array(df)\n",
    "    # Making train test split\n",
    "    X_train, X_test, y_train, y_test = train_test_split(df.drop(columns=\"J\"), df[\"J\"], test_size=0.33, random_state=42)\n",
    "    df_train = pd.concat([X_train, y_train],axis = 1)\n",
    "    return df_train,X_train,X_test, y_train, y_test"
   ]
  },
  {
   "cell_type": "code",
   "execution_count": 110,
   "metadata": {},
   "outputs": [],
   "source": [
    "def glm_function(df_train):\n",
    "    '''GLM function to run the glm model\n",
    "    Parameters : \n",
    "    df_train : train data frame to train the glm model\n",
    "    '''\n",
    "    # Formula used and train the glm function\n",
    "    formula = \"J~A+B+C+D+E+F+G+H+I\"\n",
    "    model = smf.glm(formula = formula, data=df_train, family=sm.families.Binomial())\n",
    "    result = model.fit()\n",
    "    print(result.summary())\n",
    "    return result"
   ]
  },
  {
   "cell_type": "code",
   "execution_count": 91,
   "metadata": {},
   "outputs": [],
   "source": [
    "df = read_file(\"Data/breast_cancer.csv\")\n",
    "df_train,X_train,X_test, y_train, y_test= processing_dataframe(df)"
   ]
  },
  {
   "cell_type": "code",
   "execution_count": 106,
   "metadata": {},
   "outputs": [
    {
     "name": "stdout",
     "output_type": "stream",
     "text": [
      "                       Generalized Linear Model Regression Results                       \n",
      "=========================================================================================\n",
      "Dep. Variable:     ['J[benign]', 'J[malignant]']   No. Observations:                  468\n",
      "Model:                                       GLM   Df Residuals:                      458\n",
      "Model Family:                           Binomial   Df Model:                            9\n",
      "Link Function:                             logit   Scale:                          1.0000\n",
      "Method:                                     IRLS   Log-Likelihood:                -39.685\n",
      "Date:                           Tue, 29 Oct 2019   Deviance:                       79.370\n",
      "Time:                                   19:34:10   Pearson chi2:                     234.\n",
      "No. Iterations:                                8   Covariance Type:             nonrobust\n",
      "==============================================================================\n",
      "                 coef    std err          z      P>|z|      [0.025      0.975]\n",
      "------------------------------------------------------------------------------\n",
      "Intercept      9.3226      1.225      7.608      0.000       6.921      11.724\n",
      "A             -0.5046      0.159     -3.172      0.002      -0.816      -0.193\n",
      "B              0.0287      0.242      0.119      0.906      -0.446       0.504\n",
      "C             -0.3469      0.280     -1.240      0.215      -0.895       0.201\n",
      "D             -0.2106      0.130     -1.618      0.106      -0.466       0.045\n",
      "E             -0.0034      0.186     -0.018      0.986      -0.369       0.362\n",
      "F             -0.4989      0.106     -4.710      0.000      -0.707      -0.291\n",
      "G             -0.4098      0.179     -2.296      0.022      -0.760      -0.060\n",
      "H             -0.0527      0.130     -0.404      0.686      -0.308       0.203\n",
      "I             -0.4446      0.315     -1.410      0.159      -1.063       0.174\n",
      "==============================================================================\n"
     ]
    }
   ],
   "source": [
    "result  = glm_function(df_train)"
   ]
  },
  {
   "cell_type": "markdown",
   "metadata": {},
   "source": [
    "# GLM Summary Report :\n",
    "1. Standard Error for last feature i.e, Mitoses is high as compared to other features.\n",
    "2. Cell size is contributing more to glm function since its coefficient value is larger than others\n",
    "3. Weights of other features (other than cellsize) is negative and cellsize coefficient is positive. So, it means cell size is contributing toward the value of glm.\n",
    "4. Intercept has high standard error (w*x + intercept).\n",
    "5. Covariance type is non-robust\n",
    "6. Number of Iterations, it did : 8\n",
    "7. Link function used : logit\n",
    "    Deviance Value of glm fitted : 79.370"
   ]
  },
  {
   "cell_type": "code",
   "execution_count": 93,
   "metadata": {},
   "outputs": [],
   "source": [
    "prediction_prob = result.predict(X_test)\n",
    "predictions = predict_result(prediction_prob)"
   ]
  },
  {
   "cell_type": "code",
   "execution_count": 94,
   "metadata": {},
   "outputs": [
    {
     "name": "stdout",
     "output_type": "stream",
     "text": [
      "Accuracy :  96.1038961038961\n"
     ]
    }
   ],
   "source": [
    "print(\"Accuracy : \",accuracy(predictions,np.array(y_test))*100)"
   ]
  },
  {
   "cell_type": "code",
   "execution_count": 95,
   "metadata": {},
   "outputs": [
    {
     "data": {
      "image/png": "[encoded data removed]",
      "text/plain": [
       "<Figure size 432x288 with 2 Axes>"
      ]
     },
     "metadata": {},
     "output_type": "display_data"
    }
   ],
   "source": [
    "conf  = confusion_matrix(np.array(y_test), predictions)\n",
    "sn.set(font_scale=1.4)#for label size\n",
    "sn.heatmap(conf, annot=True)\n",
    "plt.show()"
   ]
  },
  {
   "cell_type": "code",
   "execution_count": 101,
   "metadata": {},
   "outputs": [
    {
     "name": "stdout",
     "output_type": "stream",
     "text": [
      "Odd ratio :  Intercept    11187.921296\n",
      "A                0.603764\n",
      "B                1.029160\n",
      "C                0.706901\n",
      "D                0.810103\n",
      "E                0.996636\n",
      "F                0.607204\n",
      "G                0.663781\n",
      "H                0.948685\n",
      "I                0.641063\n",
      "dtype: float64\n"
     ]
    }
   ],
   "source": [
    "odd_ratio = result.params\n",
    "print(\"Odd ratio : \",np.exp(odd_ratio))"
   ]
  },
  {
   "cell_type": "code",
   "execution_count": 102,
   "metadata": {},
   "outputs": [],
   "source": [
    "# Confidence Interval\n",
    "confidence = result.conf_int()\n",
    "confidence.columns = [\"2.5%\",\"97.5%\"]"
   ]
  },
  {
   "cell_type": "code",
   "execution_count": 109,
   "metadata": {},
   "outputs": [
    {
     "name": "stdout",
     "output_type": "stream",
     "text": [
      "Confidence Interval : \n",
      "                   2.5%          97.5%\n",
      "Intercept  1013.112474  123549.542755\n",
      "A             0.442048       0.824640\n",
      "B             0.640132       1.654611\n",
      "C             0.408553       1.223121\n",
      "D             0.627669       1.045563\n",
      "E             0.691750       1.435900\n",
      "F             0.493366       0.747309\n",
      "G             0.467825       0.941818\n",
      "H             0.734677       1.225032\n",
      "I             0.345501       1.189463\n"
     ]
    }
   ],
   "source": [
    "print(\"Confidence Interval : \\n\",np.exp(confidence))"
   ]
  },
  {
   "cell_type": "markdown",
   "metadata": {},
   "source": [
    "# Interpretations for Odd ratio : \n",
    "1. Odds ratio of exactly 1 means that exposure to property 1 does not affect the odds of property 2.\n",
    "2. Odds ratio of more than 1 means that there is a higher odds of property 2 happening with exposure to property 1.\n",
    "3. Odds ratio is less than 1 is associated with lower odds."
   ]
  }
 ],
 "metadata": {
  "kernelspec": {
   "display_name": "Python 3",
   "language": "python",
   "name": "python3"
  },
  "language_info": {
   "codemirror_mode": {
    "name": "ipython",
    "version": 3
   },
   "file_extension": ".py",
   "mimetype": "text/x-python",
   "name": "python",
   "nbconvert_exporter": "python",
   "pygments_lexer": "ipython3",
   "version": "3.7.1"
  }
 },
 "nbformat": 4,
 "nbformat_minor": 2
}
